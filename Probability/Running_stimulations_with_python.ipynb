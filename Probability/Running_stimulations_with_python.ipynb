{
  "nbformat": 4,
  "nbformat_minor": 0,
  "metadata": {
    "kernelspec": {
      "display_name": "Python 3",
      "language": "python",
      "name": "python3"
    },
    "language_info": {
      "codemirror_mode": {
        "name": "ipython",
        "version": 3
      },
      "file_extension": ".py",
      "mimetype": "text/x-python",
      "name": "python",
      "nbconvert_exporter": "python",
      "pygments_lexer": "ipython3",
      "version": "3.8.3"
    },
    "colab": {
      "name": "Running_stimulations_with_python.ipynb",
      "provenance": [],
      "collapsed_sections": [],
      "include_colab_link": true
    }
  },
  "cells": [
    {
      "cell_type": "markdown",
      "metadata": {
        "id": "view-in-github",
        "colab_type": "text"
      },
      "source": [
        "<a href=\"https://colab.research.google.com/github/hardikkamboj/Code/blob/master/Probability/Running_stimulations_with_python.ipynb\" target=\"_parent\"><img src=\"https://colab.research.google.com/assets/colab-badge.svg\" alt=\"Open In Colab\"/></a>"
      ]
    },
    {
      "cell_type": "code",
      "metadata": {
        "id": "xSKnSFtCkmAk"
      },
      "source": [
        "import numpy as np\n",
        "\n",
        "import matplotlib.pyplot as plt"
      ],
      "execution_count": 1,
      "outputs": []
    },
    {
      "cell_type": "code",
      "metadata": {
        "id": "VllOsQSMkmAl"
      },
      "source": [
        "# lets first of all create some Classes to make our lives a bit easier\n",
        "class Coin:\n",
        "    def __init__(self):\n",
        "        pass \n",
        "    \n",
        "    def toss(self):\n",
        "        return np.random.choice(['H','T'])\n",
        "\n",
        "class Dice:\n",
        "    def __init__(self):\n",
        "      pass\n",
        "\n",
        "    def roll(self):\n",
        "      return np.random.choice([1,2,3,4,5,6])        "
      ],
      "execution_count": 35,
      "outputs": []
    },
    {
      "cell_type": "markdown",
      "metadata": {
        "id": "pAhFA0mikmAm"
      },
      "source": [
        "# Problem 1: Two fair coins are tossed together, what is the probablity that they are show up on the same side?"
      ]
    },
    {
      "cell_type": "markdown",
      "metadata": {
        "id": "RBkNhceIkmAm"
      },
      "source": [
        "We all have done this problem before. (I assume) <br>\n",
        "Its most likely that we have solved it using the following steps :-\n",
        " - Calculate sub space \n",
        " - Count number of total outcomes \n",
        " - Count number of favourable outcomes\n",
        " - calculate (number of fav outcomes / total number of outcomes)"
      ]
    },
    {
      "cell_type": "markdown",
      "metadata": {
        "id": "FZ2sXTmhkmAm"
      },
      "source": [
        "### Lets try this out - "
      ]
    },
    {
      "cell_type": "markdown",
      "metadata": {
        "id": "WYopm78wkmAn"
      },
      "source": [
        "sub_space = { (Head, Head), (Head, Tail), (Tail,Head), (Tail,Tail) } <br>\n",
        "total number of outcomes = 4  <br>\n",
        "favourable number of outcomes = 2 ,ie, {(Head, Head), (Tail,Tail) } <br>\n",
        "prob = 2 / 4 = 0.5  <br> \n",
        "\n",
        "### According to this Probability would be 0.5. \n"
      ]
    },
    {
      "cell_type": "markdown",
      "metadata": {
        "id": "-nTtNkyikmAn"
      },
      "source": [
        "## Now using stimulations - "
      ]
    },
    {
      "cell_type": "code",
      "metadata": {
        "id": "zCL4B7lKkmAn"
      },
      "source": [
        "def problem_1(n_itr):\n",
        "    # select two coins\n",
        "    coin1 = Coin()\n",
        "    coin2 = Coin()\n",
        "    \n",
        "    num_fav = 0\n",
        "    \n",
        "    for itr in range(n_itr):\n",
        "        result1 = coin1.toss() # toss the first coin\n",
        "        result2= coin2.toss() # toss the second coin\n",
        "        \n",
        "        if result1 == result2: \n",
        "            num_fav += 1  # the number of instance when both \n",
        "                          # coins showed the same output\n",
        "            \n",
        "    return (num_fav / n_itr)        "
      ],
      "execution_count": 3,
      "outputs": []
    },
    {
      "cell_type": "code",
      "metadata": {
        "colab": {
          "base_uri": "https://localhost:8080/"
        },
        "id": "t_qSaqt2kmAn",
        "outputId": "7c4d350d-1dcd-432e-a9e1-8df2bb4fc813"
      },
      "source": [
        "iterations = 10**np.arange(1,7)\n",
        "iterations"
      ],
      "execution_count": 4,
      "outputs": [
        {
          "output_type": "execute_result",
          "data": {
            "text/plain": [
              "array([     10,     100,    1000,   10000,  100000, 1000000])"
            ]
          },
          "metadata": {
            "tags": []
          },
          "execution_count": 4
        }
      ]
    },
    {
      "cell_type": "code",
      "metadata": {
        "colab": {
          "base_uri": "https://localhost:8080/"
        },
        "id": "3Kl8jVWkkmAq",
        "outputId": "68258f96-b0cb-4377-f93f-6ae50d460b0b"
      },
      "source": [
        "from tqdm import tqdm\n",
        "score_dict = {}\n",
        "for curr_itr in tqdm(iterations):\n",
        "    score_dict[curr_itr] = problem_1(curr_itr)\n",
        "    "
      ],
      "execution_count": 10,
      "outputs": [
        {
          "output_type": "stream",
          "text": [
            "100%|██████████| 6/6 [00:13<00:00,  2.21s/it]"
          ],
          "name": "stderr"
        },
        {
          "output_type": "stream",
          "text": [
            "The probability would be  0.49909\n"
          ],
          "name": "stdout"
        },
        {
          "output_type": "stream",
          "text": [
            "\n"
          ],
          "name": "stderr"
        }
      ]
    },
    {
      "cell_type": "code",
      "metadata": {
        "colab": {
          "base_uri": "https://localhost:8080/"
        },
        "id": "d0kapxlZltG2",
        "outputId": "67b50d12-4c27-435f-e774-20a46ea863fb"
      },
      "source": [
        "print('The probability would be ',list(score_dict.values())[-1])     \n",
        "# we get a very similar number as from direct caculation"
      ],
      "execution_count": 12,
      "outputs": [
        {
          "output_type": "stream",
          "text": [
            "The probability would be  0.49909\n"
          ],
          "name": "stdout"
        }
      ]
    },
    {
      "cell_type": "code",
      "metadata": {
        "colab": {
          "base_uri": "https://localhost:8080/",
          "height": 518
        },
        "id": "LZOyJCEgkmAq",
        "outputId": "eba15f8d-475d-4615-9644-4b4a9a120228"
      },
      "source": [
        "# lets see how this number varies as number of times the stimlation was ran \n",
        "plt.figure(figsize = (12,8))\n",
        "plt.plot(list(score_dict.keys()),list(score_dict.values()),label = 'Prob calculated')\n",
        "plt.axhline(y = 0.5,linestyle = '--',c = 'red',label = '0.5')\n",
        "plt.xscale('log')\n",
        "plt.legend()\n",
        "plt.xlabel('Number of Iterations')\n",
        "plt.ylabel('Probability')"
      ],
      "execution_count": 17,
      "outputs": [
        {
          "output_type": "execute_result",
          "data": {
            "text/plain": [
              "Text(0, 0.5, 'Probability')"
            ]
          },
          "metadata": {
            "tags": []
          },
          "execution_count": 17
        },
        {
          "output_type": "display_data",
          "data": {
            "image/png": "[encoded data removed]",
            "text/plain": [
              "<Figure size 864x576 with 1 Axes>"
            ]
          },
          "metadata": {
            "tags": [],
            "needs_background": "light"
          }
        }
      ]
    },
    {
      "cell_type": "markdown",
      "metadata": {
        "id": "c46BgmW7kmAq"
      },
      "source": [
        "We can see from the above graph that the prob of getting the same outcomes on both the coins merges to 0.5 (the desired output) as the number of stimulations is increased. "
      ]
    },
    {
      "cell_type": "markdown",
      "metadata": {
        "id": "kSM4f7FVmYXC"
      },
      "source": [
        "# Problem 2: Find the probability of exactly Two Heads when three coins are tossed together. "
      ]
    },
    {
      "cell_type": "markdown",
      "metadata": {
        "id": "ZB6E4C5a2I4r"
      },
      "source": [
        "In this case we would get a sample size of 8 instances, out of which we would have 2 desired outcomes. Hence the probability in this case would be 3/8 = 0.375"
      ]
    },
    {
      "cell_type": "code",
      "metadata": {
        "id": "YDUd_3wFnLOo"
      },
      "source": [
        "def problem_2(n_itr):\n",
        "  # select three coins\n",
        "  coin1 = Coin()\n",
        "  coin2 = Coin()\n",
        "  coin3 = Coin()\n",
        "\n",
        "  num_fav = 0\n",
        "\n",
        "  for itr in range(n_itr):\n",
        "    # toss the three coins, and save their outcomes in a list\n",
        "    results = [coin1.toss(),coin2.toss(),coin3.toss()] \n",
        "    if results.count('H') == 2: # checking if it has 2 Heads\n",
        "      num_fav += 1 \n",
        "\n",
        "  return num_fav / n_itr    "
      ],
      "execution_count": 29,
      "outputs": []
    },
    {
      "cell_type": "code",
      "metadata": {
        "colab": {
          "base_uri": "https://localhost:8080/"
        },
        "id": "8Bl70Yrw2s6q",
        "outputId": "d135b041-624c-4a45-fddc-11788c991672"
      },
      "source": [
        "iterations = 10**np.arange(1,7)\n",
        "iterations"
      ],
      "execution_count": 30,
      "outputs": [
        {
          "output_type": "execute_result",
          "data": {
            "text/plain": [
              "array([     10,     100,    1000,   10000,  100000, 1000000])"
            ]
          },
          "metadata": {
            "tags": []
          },
          "execution_count": 30
        }
      ]
    },
    {
      "cell_type": "code",
      "metadata": {
        "colab": {
          "base_uri": "https://localhost:8080/"
        },
        "id": "peXnNzZI2s6v",
        "outputId": "609109a9-979e-47a5-873d-37af9e7236ae"
      },
      "source": [
        "score_dict = {}\n",
        "for curr_itr in tqdm(iterations):\n",
        "    # run the stimulation for different number of iterations\n",
        "    score_dict[curr_itr] = problem_2(curr_itr)\n",
        "    "
      ],
      "execution_count": 31,
      "outputs": [
        {
          "output_type": "stream",
          "text": [
            "100%|██████████| 6/6 [00:20<00:00,  3.38s/it]\n"
          ],
          "name": "stderr"
        }
      ]
    },
    {
      "cell_type": "code",
      "metadata": {
        "colab": {
          "base_uri": "https://localhost:8080/"
        },
        "id": "cm4higv02s6w",
        "outputId": "739680d8-a95d-4269-e4c6-c7a25f16bf1b"
      },
      "source": [
        "print('The probability would be ',list(score_dict.values())[-1])     \n",
        "# we get a very similar number as from direct caculation"
      ],
      "execution_count": 32,
      "outputs": [
        {
          "output_type": "stream",
          "text": [
            "The probability would be  0.374621\n"
          ],
          "name": "stdout"
        }
      ]
    },
    {
      "cell_type": "code",
      "metadata": {
        "colab": {
          "base_uri": "https://localhost:8080/",
          "height": 518
        },
        "id": "4y8YbxEg2s6y",
        "outputId": "c51e465e-3b9c-45dc-8fb5-62676492d090"
      },
      "source": [
        "# lets see how this number varies as number of times the stimlation was ran \n",
        "plt.figure(figsize = (12,8))\n",
        "plt.plot(list(score_dict.keys()),list(score_dict.values()),label = 'Prob calculated')\n",
        "plt.axhline(y = 0.375,linestyle = '--',c = 'red',label = '0.375')\n",
        "plt.xscale('log')\n",
        "plt.legend()\n",
        "plt.xlabel('Number of Iterations')\n",
        "plt.ylabel('Probability')"
      ],
      "execution_count": 34,
      "outputs": [
        {
          "output_type": "execute_result",
          "data": {
            "text/plain": [
              "Text(0, 0.5, 'Probability')"
            ]
          },
          "metadata": {
            "tags": []
          },
          "execution_count": 34
        },
        {
          "output_type": "display_data",
          "data": {
            "image/png": "[encoded data removed]",
            "text/plain": [
              "<Figure size 864x576 with 1 Axes>"
            ]
          },
          "metadata": {
            "tags": [],
            "needs_background": "light"
          }
        }
      ]
    },
    {
      "cell_type": "markdown",
      "metadata": {
        "id": "1ZXnbxM_24lS"
      },
      "source": [
        "Again we observe the similar trend that as the number of iterations increases the probability we get merges with the desired probability."
      ]
    },
    {
      "cell_type": "markdown",
      "metadata": {
        "id": "bJ87HxKa3TlO"
      },
      "source": [
        "# Problem 3: Find the probability of rolling doubles on two 6-sided dice numbered from 1 - 6"
      ]
    },
    {
      "cell_type": "markdown",
      "metadata": {
        "id": "ZPlSiF_Y3k6z"
      },
      "source": [
        "In this case \n",
        "- Sub space (x,y) where both x and y are numbers from 1 to 6. \n",
        "- Total number of outcomes - 6 for x and 6 for y = 6*6 = 36 \n",
        "- Fav number of outcomes = (1,1), (2,2) .... (6,6) = 6 \n",
        "- Prob of rolling doubles = 6 / 36 = 1 / 6 = 0.1667"
      ]
    },
    {
      "cell_type": "markdown",
      "metadata": {
        "id": "5hoxXsl74ZCe"
      },
      "source": [
        "## Now lets try stimulations"
      ]
    },
    {
      "cell_type": "code",
      "metadata": {
        "id": "KX89YUiP4eJX"
      },
      "source": [
        "def problem_3(n_itr):\n",
        "  # select the dice\n",
        "  die1 = Dice()\n",
        "  die2 = Dice()\n",
        "\n",
        "  num_fav = 0\n",
        "\n",
        "  for itr in range(n_itr):\n",
        "      result1 = die1.roll() # roll \n",
        "      result2 = die2.roll()  # roll \n",
        "      if result1 == result2:\n",
        "        num_fav += 1 \n",
        "\n",
        "  return num_fav / n_itr    "
      ],
      "execution_count": 37,
      "outputs": []
    },
    {
      "cell_type": "code",
      "metadata": {
        "colab": {
          "base_uri": "https://localhost:8080/"
        },
        "id": "hivgnXO_54eg",
        "outputId": "bbca7451-3438-441d-eb93-85b92b51a3ab"
      },
      "source": [
        "score_dict = {}\n",
        "for curr_itr in tqdm(iterations):\n",
        "    score_dict[curr_itr] = problem_3(curr_itr)\n",
        "    "
      ],
      "execution_count": 40,
      "outputs": [
        {
          "output_type": "stream",
          "text": [
            "100%|██████████| 6/6 [00:13<00:00,  2.18s/it]\n"
          ],
          "name": "stderr"
        }
      ]
    },
    {
      "cell_type": "code",
      "metadata": {
        "colab": {
          "base_uri": "https://localhost:8080/"
        },
        "id": "YaHNdv6L54ej",
        "outputId": "571012ec-2bf3-46d9-eb89-90238c2d89f7"
      },
      "source": [
        "print('The probability would be ',list(score_dict.values())[-1])     \n",
        "# we get a very similar number as from direct caculation"
      ],
      "execution_count": 41,
      "outputs": [
        {
          "output_type": "stream",
          "text": [
            "The probability would be  0.167223\n"
          ],
          "name": "stdout"
        }
      ]
    },
    {
      "cell_type": "code",
      "metadata": {
        "colab": {
          "base_uri": "https://localhost:8080/",
          "height": 518
        },
        "id": "9OJfpKAY54ek",
        "outputId": "9ac4909f-c054-4fce-f69f-afb6b11b2a46"
      },
      "source": [
        "# lets see how this number varies as number of times the stimlation was ran \n",
        "plt.figure(figsize = (12,8))\n",
        "plt.plot(list(score_dict.keys()),list(score_dict.values()),label = 'Prob calculated')\n",
        "plt.axhline(y = 0.1667,linestyle = '--',c = 'red',label = '0.1667')\n",
        "plt.xscale('log')\n",
        "plt.legend()\n",
        "plt.xlabel('Number of Iterations')\n",
        "plt.ylabel('Probability')"
      ],
      "execution_count": 42,
      "outputs": [
        {
          "output_type": "execute_result",
          "data": {
            "text/plain": [
              "Text(0, 0.5, 'Probability')"
            ]
          },
          "metadata": {
            "tags": []
          },
          "execution_count": 42
        },
        {
          "output_type": "display_data",
          "data": {
            "image/png": "[encoded data removed]",
            "text/plain": [
              "<Figure size 864x576 with 1 Axes>"
            ]
          },
          "metadata": {
            "tags": [],
            "needs_background": "light"
          }
        }
      ]
    },
    {
      "cell_type": "code",
      "metadata": {
        "id": "enZ9Urs76Bs3"
      },
      "source": [
        ""
      ],
      "execution_count": null,
      "outputs": []
    }
  ]
}
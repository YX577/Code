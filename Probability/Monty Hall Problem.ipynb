{
 "cells": [
  {
   "cell_type": "code",
   "execution_count": 107,
   "metadata": {},
   "outputs": [],
   "source": [
    "import numpy as np\n",
    "import random\n",
    "import matplotlib.pyplot as plt"
   ]
  },
  {
   "cell_type": "code",
   "execution_count": 72,
   "metadata": {},
   "outputs": [],
   "source": [
    "class Game:\n",
    "    def __init__(self):\n",
    "        self.stage = ['G','G','C']\n",
    "        self.choice = None\n",
    "        random.shuffle(self.stage)\n",
    "        \n",
    "    def set_choice(self,num):\n",
    "        self.choice = num - 1\n",
    "\n",
    "    \n",
    "    def give_goat(self):\n",
    "        if self.stage[self.choice] == 'C':\n",
    "            goat_idx = list(set([0,1,2]) - set([self.choice]))\n",
    "            return np.random.choice(goat_idx) + 1\n",
    "        else:\n",
    "            copy = self.stage.copy()\n",
    "            copy[self.choice] = 'null'\n",
    "            return copy.index('G') + 1\n",
    "        \n",
    "    def check_win(self):\n",
    "        return True if self.stage[self.choice] == 'C' else False\n",
    "        "
   ]
  },
  {
   "cell_type": "markdown",
   "metadata": {},
   "source": [
    "### Run the cell below to PLAY"
   ]
  },
  {
   "cell_type": "code",
   "execution_count": 136,
   "metadata": {},
   "outputs": [
    {
     "name": "stdout",
     "output_type": "stream",
     "text": [
      "You have Three Choices...\n",
      "1 2 or 3\n",
      "Enter your choice2\n",
      "Now...curtain 1 contains goat\n",
      "Would you like to switch.....yes or no..(in lowercase please)\n",
      "So.......yes or noyes\n",
      "Hurray........\n",
      "Bloody hell...you won a car.....\n",
      "To play again, run this cell again please\n"
     ]
    }
   ],
   "source": [
    "def play_monty_hall():\n",
    "    game = Game()\n",
    "    print('You have Three Choices...')\n",
    "    print('1 2 or 3')\n",
    "    choice = int(input('Enter your choice'))\n",
    "    game.set_choice(choice)\n",
    "    goat = game.give_goat()\n",
    "    print('Now...curtain '+ str(goat)+ ' contains goat' )\n",
    "    print('Would you like to switch.....yes or no..(in lowercase please)')\n",
    "    switch = input()\n",
    "    if switch == 'yes':\n",
    "        choice = list(set([1,2,3]) - set([choice,goat]))[0]\n",
    "        game.set_choice(choice)\n",
    "    if game.check_win():\n",
    "        print('Hurray........')\n",
    "        print('Bloody hell...you won a car.....')\n",
    "    else:\n",
    "        print('bad luck...you get a goat')\n",
    "    print('To play again, run this cell again please')    \n",
    "    \n",
    "    \n",
    "play_monty_hall()    "
   ]
  },
  {
   "cell_type": "markdown",
   "metadata": {},
   "source": [
    "# Now lets see which of the two choices have a better chance of winning....Switching or sticking to the same..."
   ]
  },
  {
   "cell_type": "code",
   "execution_count": 104,
   "metadata": {},
   "outputs": [],
   "source": [
    "def monty_hall_stimulation(total_games,switch = True):\n",
    "    wins = 0\n",
    "    for itr in range(total_games):\n",
    "        game = Game()\n",
    "        choice = np.random.choice([1,2,3])\n",
    "        game.set_choice(choice)\n",
    "        goat = game.give_goat()\n",
    "        switch_choice = list(set([1,2,3]) - set([choice,goat]))[0]\n",
    "        if switch:\n",
    "            game.set_choice(switch_choice)\n",
    "        if game.check_win():\n",
    "            wins+=1\n",
    "            \n",
    "    return (wins / total_games)   "
   ]
  },
  {
   "cell_type": "code",
   "execution_count": 103,
   "metadata": {},
   "outputs": [
    {
     "data": {
      "text/plain": [
       "array([     10,     100,    1000,   10000,  100000, 1000000])"
      ]
     },
     "execution_count": 103,
     "metadata": {},
     "output_type": "execute_result"
    }
   ],
   "source": [
    "total_games = 10**np.arange(1,7)\n",
    "total_games"
   ]
  },
  {
   "cell_type": "markdown",
   "metadata": {},
   "source": [
    "# Choice 1: always switch"
   ]
  },
  {
   "cell_type": "code",
   "execution_count": 105,
   "metadata": {},
   "outputs": [],
   "source": [
    "always_switch_scores = {}\n",
    "for curr_itr in total_games:\n",
    "    always_switch_scores[curr_itr] = monty_hall_stimulation(curr_itr,switch = True)"
   ]
  },
  {
   "cell_type": "code",
   "execution_count": 125,
   "metadata": {},
   "outputs": [
    {
     "data": {
      "text/plain": [
       "Text(0, 0.5, 'Probability of Winning')"
      ]
     },
     "execution_count": 125,
     "metadata": {},
     "output_type": "execute_result"
    },
    {
     "data": {
      "image/png": "[encoded data removed]",
      "text/plain": [
       "<Figure size 720x432 with 1 Axes>"
      ]
     },
     "metadata": {
      "needs_background": "light"
     },
     "output_type": "display_data"
    }
   ],
   "source": [
    "plt.figure(figsize = (10,6))\n",
    "plt.plot(list(always_switch_scores.keys()),list(always_switch_scores.values()))\n",
    "est_prob_switch = list(always_switch_scores.values())[-1]\n",
    "plt.axhline(y = est_prob_switch ,c = 'red',label = 'Estimated probability ' + str(est_prob_switch))\n",
    "plt.xscale('log')\n",
    "plt.legend()\n",
    "plt.xlabel('Number of Iterations Used')\n",
    "plt.ylabel('Probability of Winning')"
   ]
  },
  {
   "cell_type": "markdown",
   "metadata": {},
   "source": [
    "So, the probability of winning would be 66%...now lets see the case where i don't switch.."
   ]
  },
  {
   "cell_type": "markdown",
   "metadata": {},
   "source": [
    "# Choice 2 Stick to the first guess"
   ]
  },
  {
   "cell_type": "code",
   "execution_count": 114,
   "metadata": {},
   "outputs": [],
   "source": [
    "do_not_switch_scores = {}\n",
    "for curr_itr in total_games:\n",
    "    do_not_switch_scores[curr_itr] = monty_hall_stimulation(curr_itr,switch = False)"
   ]
  },
  {
   "cell_type": "code",
   "execution_count": 123,
   "metadata": {},
   "outputs": [
    {
     "data": {
      "text/plain": [
       "Text(0, 0.5, 'Probability of Winning')"
      ]
     },
     "execution_count": 123,
     "metadata": {},
     "output_type": "execute_result"
    },
    {
     "data": {
      "image/png": "[encoded data removed]",
      "text/plain": [
       "<Figure size 720x432 with 1 Axes>"
      ]
     },
     "metadata": {
      "needs_background": "light"
     },
     "output_type": "display_data"
    }
   ],
   "source": [
    "plt.figure(figsize = (10,6))\n",
    "plt.plot(list(do_not_switch_scores.keys()),list(do_not_switch_scores.values()))\n",
    "est_prob_do_not_switch = list(do_not_switch_scores.values())[-1]\n",
    "plt.axhline(y = est_prob_do_not_switch ,c = 'red',label = 'Estimated probability - '+ str(est_prob_do_not_switch))\n",
    "plt.xscale('log')\n",
    "plt.legend()\n",
    "plt.xlabel('Number of Iterations Used')\n",
    "plt.ylabel('Probability of Winning')"
   ]
  },
  {
   "cell_type": "markdown",
   "metadata": {},
   "source": [
    "# so, we have the answer...."
   ]
  },
  {
   "cell_type": "markdown",
   "metadata": {},
   "source": [
    "# Final Conclusion"
   ]
  },
  {
   "cell_type": "code",
   "execution_count": 133,
   "metadata": {},
   "outputs": [
    {
     "data": {
      "text/plain": [
       "Text(0, 0.5, 'Winning percentage')"
      ]
     },
     "execution_count": 133,
     "metadata": {},
     "output_type": "execute_result"
    },
    {
     "data": {
      "image/png": "[encoded data removed]",
      "text/plain": [
       "<Figure size 432x432 with 1 Axes>"
      ]
     },
     "metadata": {
      "needs_background": "light"
     },
     "output_type": "display_data"
    }
   ],
   "source": [
    "plt.figure(figsize = (6,6))\n",
    "plt.bar(['Always_switch','Never Switch'], [est_prob_switch*100,est_prob_do_not_switch*100])\n",
    "plt.ylim(0,100)\n",
    "plt.ylabel('Winning percentage')"
   ]
  },
  {
   "cell_type": "markdown",
   "metadata": {},
   "source": [
    "## Always switching will have around 66% chance of winning as compared to the 33% when one never switches"
   ]
  }
 ],
 "metadata": {
  "kernelspec": {
   "display_name": "Python 3",
   "language": "python",
   "name": "python3"
  },
  "language_info": {
   "codemirror_mode": {
    "name": "ipython",
    "version": 3
   },
   "file_extension": ".py",
   "mimetype": "text/x-python",
   "name": "python",
   "nbconvert_exporter": "python",
   "pygments_lexer": "ipython3",
   "version": "3.8.3"
  }
 },
 "nbformat": 4,
 "nbformat_minor": 4
}

{
 "cells": [
  {
   "cell_type": "markdown",
   "metadata": {},
   "source": [
    "# Scipy.optimize.curve_fit"
   ]
  },
  {
   "cell_type": "code",
   "execution_count": 1,
   "metadata": {},
   "outputs": [],
   "source": [
    "import numpy as np\n",
    "from scipy.optimize import curve_fit\n",
    "\n",
    "import matplotlib.pyplot as plt\n",
    "import seaborn as sns"
   ]
  },
  {
   "cell_type": "code",
   "execution_count": 15,
   "metadata": {},
   "outputs": [],
   "source": [
    "# lets generate a stimulated data, where we have X and y\n",
    "np.random.seed(1)\n",
    "X = np.random.randint(1,20,25)"
   ]
  },
  {
   "cell_type": "code",
   "execution_count": 16,
   "metadata": {},
   "outputs": [
    {
     "data": {
      "text/plain": [
       "array([ 6, 12, 13,  9, 10, 12,  6, 16,  1, 17,  2, 13,  8, 14,  7, 19,  6,\n",
       "       19, 12, 11, 15, 19,  5, 10, 18])"
      ]
     },
     "execution_count": 16,
     "metadata": {},
     "output_type": "execute_result"
    }
   ],
   "source": [
    "X"
   ]
  },
  {
   "cell_type": "code",
   "execution_count": 17,
   "metadata": {},
   "outputs": [],
   "source": [
    "# in this case, y is linearly related to X, therefore, we expect the linear function to perform the best\n",
    "np.random.seed(2)\n",
    "y = -1 + X*3.5 + 10*np.random.randn(25)\n",
    "# here the intercept is -1, slope is 3.5 and some randon noise is added"
   ]
  },
  {
   "cell_type": "code",
   "execution_count": 19,
   "metadata": {},
   "outputs": [
    {
     "data": {
      "text/plain": [
       "Text(0.5, 1.0, 'Distribution of data')"
      ]
     },
     "execution_count": 19,
     "metadata": {},
     "output_type": "execute_result"
    },
    {
     "data": {
      "image/png": "[encoded data removed]",
      "text/plain": [
       "<Figure size 432x288 with 1 Axes>"
      ]
     },
     "metadata": {
      "needs_background": "light"
     },
     "output_type": "display_data"
    }
   ],
   "source": [
    "# lets visualize the data we have\n",
    "plt.scatter(X,y)\n",
    "plt.xlabel('X')\n",
    "plt.ylabel('Y')\n",
    "plt.title('Distribution of data')"
   ]
  },
  {
   "cell_type": "code",
   "execution_count": 49,
   "metadata": {},
   "outputs": [],
   "source": [
    "# this callable function is the first parameter to the function curve_fit.\n",
    "# the parameters are given such that func(x,*params) - y is minimized\n",
    "def func(x,a,b):\n",
    "    return a + x*b"
   ]
  },
  {
   "cell_type": "markdown",
   "metadata": {},
   "source": [
    "https://docs.scipy.org/doc/scipy/reference/generated/scipy.optimize.curve_fit.html"
   ]
  },
  {
   "cell_type": "code",
   "execution_count": 50,
   "metadata": {},
   "outputs": [],
   "source": [
    "# the first return value is an array of all the values of the coefficients, which were given as an input to the above function.\n",
    "popt,pcov = curve_fit(func,X,y)"
   ]
  },
  {
   "cell_type": "code",
   "execution_count": 51,
   "metadata": {},
   "outputs": [
    {
     "name": "stdout",
     "output_type": "stream",
     "text": [
      "[-0.69098784  3.2476999 ]\n"
     ]
    }
   ],
   "source": [
    "# these are the values returned by the function curve fit, we can see that the intercept -0.69 is close to the choosen \n",
    "# value of -1, whlie estimated slope is 3.247 is close to the true value of 3.5.\n",
    "print(popt)"
   ]
  },
  {
   "cell_type": "code",
   "execution_count": 52,
   "metadata": {},
   "outputs": [
    {
     "name": "stdout",
     "output_type": "stream",
     "text": [
      "[[24.45764497 -1.80404084]\n",
      " [-1.80404084  0.16107507]]\n",
      "Std dev of estimates are  [4.94546711 0.40134159]\n"
     ]
    }
   ],
   "source": [
    "# this gives the correlation between the estimators\n",
    "print(pcov)\n",
    "# if one needs to find the std dev , then\n",
    "print('Std dev of estimates are ',np.sqrt(np.diag(pcov)))"
   ]
  },
  {
   "cell_type": "code",
   "execution_count": 53,
   "metadata": {},
   "outputs": [],
   "source": [
    "# lets now generate some test values, and see how it is predicting for the \n",
    "X_test = np.random.randint(0,25,30)"
   ]
  },
  {
   "cell_type": "code",
   "execution_count": 54,
   "metadata": {},
   "outputs": [
    {
     "name": "stdout",
     "output_type": "stream",
     "text": [
      "Root Mean squred error  is - 9.356681126734257\n"
     ]
    }
   ],
   "source": [
    "# as a measure of fit, we will calculate the root mean squared error for test_data\n",
    "# since it is a stimulated data we can calculate y_test\n",
    "np.random.seed(2)\n",
    "y_test = -1 + X_test*3.5 + 10*np.random.randn(30)\n",
    "RMSE = np.sqrt(np.sum((y_test - func(X_test,*popt))**2) / len(X_test))\n",
    "print('Root Mean squred error  is -',RMSE)"
   ]
  },
  {
   "cell_type": "code",
   "execution_count": 55,
   "metadata": {},
   "outputs": [
    {
     "data": {
      "text/plain": [
       "Text(0.5, 1.0, 'Linear fit')"
      ]
     },
     "execution_count": 55,
     "metadata": {},
     "output_type": "execute_result"
    },
    {
     "data": {
      "image/png": "[encoded data removed]",
      "text/plain": [
       "<Figure size 432x288 with 1 Axes>"
      ]
     },
     "metadata": {
      "needs_background": "light"
     },
     "output_type": "display_data"
    }
   ],
   "source": [
    "plt.scatter(X,y)\n",
    "sns.lineplot(X_test,func(X_test,popt[0],popt[1]),color = 'red')\n",
    "plt.xlabel('X')\n",
    "plt.ylabel('Y')\n",
    "plt.title('Linear fit')"
   ]
  },
  {
   "cell_type": "markdown",
   "metadata": {},
   "source": [
    "## We can use any function to fit the data, just change the first paramter to curve fit"
   ]
  },
  {
   "cell_type": "markdown",
   "metadata": {},
   "source": [
    "# Quadratic"
   ]
  },
  {
   "cell_type": "code",
   "execution_count": 57,
   "metadata": {},
   "outputs": [
    {
     "name": "stdout",
     "output_type": "stream",
     "text": [
      "[14.06155054  0.14239792]\n",
      "Root Mean squred error  is - 13.488919462878902\n"
     ]
    },
    {
     "data": {
      "text/plain": [
       "Text(0.5, 1.0, 'Quad fit')"
      ]
     },
     "execution_count": 57,
     "metadata": {},
     "output_type": "execute_result"
    },
    {
     "data": {
      "image/png": "[encoded data removed]",
      "text/plain": [
       "<Figure size 432x288 with 1 Axes>"
      ]
     },
     "metadata": {
      "needs_background": "light"
     },
     "output_type": "display_data"
    }
   ],
   "source": [
    "# just change the func used for optimization\n",
    "def func(x,a,b):\n",
    "    return a + b*x**2\n",
    "\n",
    "popt,pcov = curve_fit(func,X,y)\n",
    "\n",
    "print(popt)\n",
    "\n",
    "X_test = np.random.randint(0,25,50)\n",
    "\n",
    "np.random.seed(2)\n",
    "y_test = -1 + X_test*3.5 + 10*np.random.randn(50)\n",
    "RMSE = np.sqrt(np.sum((y_test - func(X_test,*popt))**2) / len(X_test))\n",
    "print('Root Mean squred error  is -',RMSE)\n",
    "\n",
    "plt.scatter(X,y)\n",
    "sns.lineplot(X_test,func(X_test,popt[0],popt[1]),color = 'red')\n",
    "plt.xlabel('X')\n",
    "plt.ylabel('Y')\n",
    "plt.title('Quad fit')"
   ]
  },
  {
   "cell_type": "markdown",
   "metadata": {},
   "source": [
    "# Cubic"
   ]
  },
  {
   "cell_type": "code",
   "execution_count": 58,
   "metadata": {},
   "outputs": [
    {
     "name": "stdout",
     "output_type": "stream",
     "text": [
      "[ 1.04551542e+01  2.43375808e-01 -5.16003922e-03]\n",
      "Root Mean squred error  is - 10.756198331477277\n"
     ]
    },
    {
     "data": {
      "text/plain": [
       "Text(0.5, 1.0, 'Cubic')"
      ]
     },
     "execution_count": 58,
     "metadata": {},
     "output_type": "execute_result"
    },
    {
     "data": {
      "image/png": "[encoded data removed]",
      "text/plain": [
       "<Figure size 432x288 with 1 Axes>"
      ]
     },
     "metadata": {
      "needs_background": "light"
     },
     "output_type": "display_data"
    }
   ],
   "source": [
    "def func(x,a,b,c):\n",
    "    return a + b*x**2 + c*x**3\n",
    "\n",
    "popt,pcov = curve_fit(func,X,y)\n",
    "\n",
    "print(popt)\n",
    "\n",
    "X_test = np.random.randint(0,25,50)\n",
    "\n",
    "np.random.seed(2)\n",
    "y_test = -1 + X_test*3.5 + 10*np.random.randn(50)\n",
    "RMSE = np.sqrt(np.sum((y_test - func(X_test,*popt))**2) / len(X_test))\n",
    "print('Root Mean squred error  is -',RMSE)\n",
    "\n",
    "plt.scatter(X,y)\n",
    "sns.lineplot(X_test,func(X_test,popt[0],popt[1],popt[2]),color = 'red')\n",
    "plt.xlabel('X')\n",
    "plt.ylabel('Y')\n",
    "plt.title('Cubic')"
   ]
  },
  {
   "cell_type": "markdown",
   "metadata": {},
   "source": [
    "# log"
   ]
  },
  {
   "cell_type": "code",
   "execution_count": 60,
   "metadata": {},
   "outputs": [
    {
     "name": "stdout",
     "output_type": "stream",
     "text": [
      "[-15.48702599  22.77687623]\n",
      "Root Mean squred error  is - inf\n"
     ]
    },
    {
     "name": "stderr",
     "output_type": "stream",
     "text": [
      "C:\\Users\\Lenovo\\Anaconda3\\lib\\site-packages\\ipykernel_launcher.py:2: RuntimeWarning: divide by zero encountered in log\n",
      "  \n"
     ]
    },
    {
     "data": {
      "text/plain": [
       "Text(0.5, 1.0, 'LOG')"
      ]
     },
     "execution_count": 60,
     "metadata": {},
     "output_type": "execute_result"
    },
    {
     "data": {
      "image/png": "[encoded data removed]",
      "text/plain": [
       "<Figure size 432x288 with 1 Axes>"
      ]
     },
     "metadata": {
      "needs_background": "light"
     },
     "output_type": "display_data"
    }
   ],
   "source": [
    "def func(x,a,b):\n",
    "    return a + b* np.log(x)\n",
    "\n",
    "popt,pcov = curve_fit(func,X,y)\n",
    "\n",
    "print(popt)\n",
    "\n",
    "X_test = np.random.randint(0,25,50)\n",
    "\n",
    "np.random.seed(2)\n",
    "y_test = -1 + X_test*3.5 + 10*np.random.randn(50)\n",
    "RMSE = np.sqrt(np.sum((y_test - func(X_test,*popt))**2) / len(X_test))\n",
    "print('Root Mean squred error  is -',RMSE)\n",
    "\n",
    "plt.scatter(X,y)\n",
    "sns.lineplot(X_test,func(X_test,popt[0],popt[1]),color = 'red')\n",
    "plt.xlabel('X')\n",
    "plt.ylabel('Y')\n",
    "plt.title('LOG')"
   ]
  },
  {
   "cell_type": "markdown",
   "metadata": {},
   "source": [
    "# Exponential"
   ]
  },
  {
   "cell_type": "code",
   "execution_count": 61,
   "metadata": {},
   "outputs": [
    {
     "name": "stdout",
     "output_type": "stream",
     "text": [
      "[3.00097224e+01 2.21584085e-07]\n",
      "Root Mean squred error  is - 453.8158813913978\n"
     ]
    },
    {
     "data": {
      "text/plain": [
       "Text(0.5, 1.0, 'Exponential')"
      ]
     },
     "execution_count": 61,
     "metadata": {},
     "output_type": "execute_result"
    },
    {
     "data": {
      "image/png": "[encoded data removed]",
      "text/plain": [
       "<Figure size 432x288 with 1 Axes>"
      ]
     },
     "metadata": {
      "needs_background": "light"
     },
     "output_type": "display_data"
    }
   ],
   "source": [
    "def func(x,a,b):\n",
    "    return a + b*(np.exp(x))\n",
    "\n",
    "popt,pcov = curve_fit(func,X,y)\n",
    "\n",
    "print(popt)\n",
    "\n",
    "X_test = np.random.randint(0,25,50)\n",
    "\n",
    "np.random.seed(2)\n",
    "y_test = -1 + X_test*3.5 + 10*np.random.randn(50)\n",
    "RMSE = np.sqrt(np.sum((y_test - func(X_test,*popt))**2) / len(X_test))\n",
    "print('Root Mean squred error  is -',RMSE)\n",
    "\n",
    "plt.scatter(X,y)\n",
    "sns.lineplot(X_test,func(X_test,popt[0],popt[1]),color = 'red')\n",
    "plt.xlabel('X')\n",
    "plt.ylabel('Y')\n",
    "plt.title('Exponential')"
   ]
  },
  {
   "cell_type": "code",
   "execution_count": 65,
   "metadata": {},
   "outputs": [],
   "source": [
    "# gen function\n",
    "\n",
    "# def func(X,*params)\n",
    "#     -------- \n",
    "\n",
    "def curve_fit_test(func,X,y):\n",
    "    popt,pcov = curve_fit(func,X,y)\n",
    "\n",
    "    print('Coefficients are ',popt)\n",
    "\n",
    "    X_test = np.random.randint(0,25,50)\n",
    "\n",
    "    np.random.seed(2)\n",
    "    y_test = -1 + X_test*3.5 + 10*np.random.randn(50)\n",
    "    RMSE = np.sqrt(np.sum((y_test - func(X_test,*popt))**2) / len(X_test))\n",
    "    print('Root Mean squred error  is -',RMSE)\n",
    "\n",
    "    plt.scatter(X,y)\n",
    "    sns.lineplot(X_test,func(X_test,popt[0],popt[1]),color = 'red')\n",
    "    plt.xlabel('X')\n",
    "    plt.ylabel('Y')\n",
    "    plt.title('Resultant fit')"
   ]
  },
  {
   "cell_type": "markdown",
   "metadata": {},
   "source": [
    "# that;s all.\n",
    "# play with the func, change some values and see how it goes :)"
   ]
  },
  {
   "cell_type": "code",
   "execution_count": null,
   "metadata": {},
   "outputs": [],
   "source": []
  },
  {
   "cell_type": "code",
   "execution_count": null,
   "metadata": {},
   "outputs": [],
   "source": []
  }
 ],
 "metadata": {
  "kernelspec": {
   "display_name": "Python 3",
   "language": "python",
   "name": "python3"
  },
  "language_info": {
   "codemirror_mode": {
    "name": "ipython",
    "version": 3
   },
   "file_extension": ".py",
   "mimetype": "text/x-python",
   "name": "python",
   "nbconvert_exporter": "python",
   "pygments_lexer": "ipython3",
   "version": "3.7.3"
  }
 },
 "nbformat": 4,
 "nbformat_minor": 2
}
